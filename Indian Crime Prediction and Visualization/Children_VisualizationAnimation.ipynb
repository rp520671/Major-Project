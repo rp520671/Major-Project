{
 "cells": [
  {
   "cell_type": "code",
   "execution_count": 5,
   "metadata": {},
   "outputs": [
    {
     "name": "stdout",
     "output_type": "stream",
     "text": [
      "28       TOTAL\n",
      "42       TOTAL\n",
      "70       TOTAL\n",
      "115      TOTAL\n",
      "135      TOTAL\n",
      "         ...  \n",
      "11472    TOTAL\n",
      "11475    TOTAL\n",
      "11495    TOTAL\n",
      "11497    TOTAL\n",
      "11500    TOTAL\n",
      "Name: DISTRICT, Length: 525, dtype: object\n"
     ]
    }
   ],
   "source": [
    "import pandas as pd\n",
    "import numpy as np\n",
    "\n",
    "df = pd.read_csv('C:/Users/rp960/Documents/Jupyter/Indian-Crime-Prediction-and-Visualization-Online-Platform-master/static/dataset/DistrictWiseWithouTelanganaALLCAPITAL2001_15.csv')\n",
    "datF = df[df['DISTRICT'] == 'TOTAL']\n",
    "print(datF['DISTRICT'])\n",
    "datF.to_csv('C:/Users/rp960/Documents/Jupyter/Indian-Crime-Prediction-and-Visualization-Online-Platform-master/static/datasetDistrictWiseWithouTelanganaALLCAPITAL2001_15.csv')"
   ]
  },
  {
   "cell_type": "code",
   "execution_count": 12,
   "metadata": {},
   "outputs": [
    {
     "name": "stdout",
     "output_type": "stream",
     "text": [
      "10143700.0\n",
      "JAMMU AND KASHMIR\n",
      "[]\n",
      "[]\n"
     ]
    },
    {
     "ename": "IndexError",
     "evalue": "list index out of range",
     "output_type": "error",
     "traceback": [
      "\u001b[1;31m---------------------------------------------------------------------------\u001b[0m",
      "\u001b[1;31mIndexError\u001b[0m                                Traceback (most recent call last)",
      "\u001b[1;32m~\\AppData\\Local\\Temp\\ipykernel_10808\\3457654597.py\u001b[0m in \u001b[0;36m<module>\u001b[1;34m\u001b[0m\n\u001b[0;32m     38\u001b[0m                 \u001b[1;32mbreak\u001b[0m\u001b[1;33m\u001b[0m\u001b[1;33m\u001b[0m\u001b[0m\n\u001b[0;32m     39\u001b[0m         \u001b[0mprint\u001b[0m \u001b[1;33m(\u001b[0m\u001b[0mtest\u001b[0m\u001b[1;33m)\u001b[0m\u001b[1;33m\u001b[0m\u001b[1;33m\u001b[0m\u001b[0m\n\u001b[1;32m---> 40\u001b[1;33m         \u001b[0mCrimePerPop\u001b[0m \u001b[1;33m=\u001b[0m \u001b[1;33m(\u001b[0m\u001b[0mtest\u001b[0m\u001b[1;33m[\u001b[0m\u001b[1;36m13\u001b[0m\u001b[1;33m]\u001b[0m\u001b[1;33m/\u001b[0m\u001b[0mpop\u001b[0m\u001b[1;33m)\u001b[0m\u001b[1;33m*\u001b[0m\u001b[1;36m100000\u001b[0m\u001b[1;33m\u001b[0m\u001b[1;33m\u001b[0m\u001b[0m\n\u001b[0m\u001b[0;32m     41\u001b[0m         \u001b[0mlist\u001b[0m \u001b[1;33m=\u001b[0m \u001b[0mnp\u001b[0m\u001b[1;33m.\u001b[0m\u001b[0mappend\u001b[0m\u001b[1;33m(\u001b[0m\u001b[0mlist\u001b[0m\u001b[1;33m,\u001b[0m\u001b[0mCrimePerPop\u001b[0m\u001b[1;33m)\u001b[0m\u001b[1;33m\u001b[0m\u001b[1;33m\u001b[0m\u001b[0m\n\u001b[0;32m     42\u001b[0m         \u001b[0mdatf\u001b[0m \u001b[1;33m=\u001b[0m \u001b[0mpd\u001b[0m\u001b[1;33m.\u001b[0m\u001b[0mDataFrame\u001b[0m\u001b[1;33m(\u001b[0m\u001b[0mlist\u001b[0m\u001b[1;33m)\u001b[0m\u001b[1;33m\u001b[0m\u001b[1;33m\u001b[0m\u001b[0m\n",
      "\u001b[1;31mIndexError\u001b[0m: list index out of range"
     ]
    }
   ],
   "source": [
    "\n",
    "pdf = pd.read_csv(\"C:/Users/rp960/Documents/Jupyter/Indian-Crime-Prediction-and-Visualization-Online-Platform-master/static/Population2001_11.csv\")\n",
    "cdf = pd.read_csv('C:/Users/rp960/Documents/Jupyter/Indian-Crime-Prediction-and-Visualization-Online-Platform-master/static/StateCACPred2001_16.csv')\n",
    "\n",
    "\n",
    "\n",
    "test = []\n",
    "for j in pdf.iloc[:,:].values:\n",
    "    state = j[0]\n",
    "    pop_01 = j[1]\n",
    "    PopDiff = j[5]\n",
    "    LitDiff = j[6]\n",
    "    Lit_01 = j[3]\n",
    "    \n",
    "    for i in range(2001, 2016):\n",
    "        list = np.array([])\n",
    "        \n",
    "        list = np.append(list,state)\n",
    "        \n",
    "        list = np.append(list,i)\n",
    "        \n",
    "\n",
    "        \n",
    "        offset = (i - 2001)*PopDiff\n",
    "        pop = pop_01 + offset\n",
    "        print (pop)\n",
    "        list = np.append(list,pop)\n",
    "        \n",
    "        offset = (i - 2001)*LitDiff\n",
    "        Lit = Lit_01 + offset\n",
    "        Lit_per = (Lit)\n",
    "        list = np.append(list,Lit_per)\n",
    "        print (state)\n",
    "        data1 = cdf.loc[cdf[\"STATE/UT\"].str.upper()==state].values\n",
    "        print (data1)\n",
    "        for x in data1:\n",
    "            if x[1] == i:\n",
    "                test = x\n",
    "                break\n",
    "        print (test)\n",
    "        CrimePerPop = (test[13]/pop)*100000\n",
    "        list = np.append(list,CrimePerPop)\n",
    "        datf = pd.DataFrame(list)\n",
    "        datf = datf.transpose()\n",
    "        datf = datf.iloc[0,:].values\n",
    "        df = pd.DataFrame(datf,index=None, columns=None).transpose()\n",
    "        print (df.head())\n",
    "        df.to_csv(\"C:/Users/rp960/Documents/Jupyter/Indian-Crime-Prediction-and-Visualization-Online-Platform-master/static/ChildrenAnimation2001_15.csv\", mode='a', header=False)\n",
    "\n",
    "\"\"\"\n",
    "summ = 0\n",
    "df = pd.read_csv('/home/shivam/BE_Project/BE_Project/static/hope (copy).csv')\n",
    "df['Total'] = df.sum(axis=1)\n",
    "with open(\"/home/shivam/BE_Project/BE_Project/static/final.csv\", 'wb') as f:\n",
    "    df.to_csv(f, header = True)\"\"\"\n",
    "\n",
    "        \n"
   ]
  },
  {
   "cell_type": "code",
   "execution_count": null,
   "metadata": {},
   "outputs": [],
   "source": []
  }
 ],
 "metadata": {
  "kernelspec": {
   "display_name": "Python 3 (ipykernel)",
   "language": "python",
   "name": "python3"
  },
  "language_info": {
   "codemirror_mode": {
    "name": "ipython",
    "version": 3
   },
   "file_extension": ".py",
   "mimetype": "text/x-python",
   "name": "python",
   "nbconvert_exporter": "python",
   "pygments_lexer": "ipython3",
   "version": "3.9.13"
  }
 },
 "nbformat": 4,
 "nbformat_minor": 2
}
